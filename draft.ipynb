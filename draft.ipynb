{
 "cells": [
  {
   "cell_type": "code",
   "execution_count": null,
   "metadata": {},
   "outputs": [],
   "source": [
    "import pandas as pd\n",
    "import os\n",
    "\n",
    "# Đường dẫn thư mục chứa các file CSV\n",
    "folder_path = \"./Dataset - Giai đoạn 2\"  # Thay đổi thành đường dẫn thực tế\n",
    "\n",
    "# Lấy danh sách các file CSV trong thư mục\n",
    "csv_files = [f for f in os.listdir(folder_path) if f.endswith('.csv')]\n",
    "\n",
    "# Đọc dữ liệu từ các file CSV vào danh sách\n",
    "dataframes = {}\n",
    "for file in csv_files:\n",
    "    df = pd.read_csv(os.path.join(folder_path, file))\n",
    "    df.drop(columns=['location'], inplace=True)\n",
    "    dataframes[file] = df\n",
    "\n",
    "# So sánh dữ liệu giữa các file\n",
    "duplicate_files = []\n",
    "for file1 in csv_files:\n",
    "    for file2 in csv_files:\n",
    "        if file1 != file2:\n",
    "            # Kiểm tra nếu có dữ liệu trùng lặp giữa hai file\n",
    "            if dataframes[file1].equals(dataframes[file2]):\n",
    "                duplicate_files.append((file1, file2))\n",
    "\n",
    "# In ra các file có dữ liệu trùng lặp\n",
    "if duplicate_files:\n",
    "    print(\"Các file có dữ liệu trùng lặp:\")\n",
    "    for pair in duplicate_files:\n",
    "        print(f\"{pair[0]} và {pair[1]} có dữ liệu trùng lặp.\")\n",
    "else:\n",
    "    print(\"Không có file nào có dữ liệu trùng lặp.\")\n"
   ]
  }
 ],
 "metadata": {
  "kernelspec": {
   "display_name": "Python 3",
   "language": "python",
   "name": "python3"
  },
  "language_info": {
   "name": "python",
   "version": "3.13.0"
  }
 },
 "nbformat": 4,
 "nbformat_minor": 2
}
